{
  "nbformat": 4,
  "nbformat_minor": 0,
  "metadata": {
    "colab": {
      "provenance": [],
      "authorship_tag": "ABX9TyMbkPJoCXPMa42jhCtobc/H",
      "include_colab_link": true
    },
    "kernelspec": {
      "name": "python3",
      "display_name": "Python 3"
    },
    "language_info": {
      "name": "python"
    }
  },
  "cells": [
    {
      "cell_type": "markdown",
      "metadata": {
        "id": "view-in-github",
        "colab_type": "text"
      },
      "source": [
        "<a href=\"https://colab.research.google.com/github/raunakyadav92/dailychallengesmode/blob/main/dailychallenges.ipynb\" target=\"_parent\"><img src=\"https://colab.research.google.com/assets/colab-badge.svg\" alt=\"Open In Colab\"/></a>"
      ]
    },
    {
      "cell_type": "code",
      "execution_count": null,
      "metadata": {
        "id": "RlW_BxHDlTVx"
      },
      "outputs": [],
      "source": [
        "import datetime\n",
        "import hashlib\n",
        "\n",
        "def generate_daily_letters():\n",
        "    today = datetime.date.today().isoformat()\n",
        "    hash_value = hashlib.md5(today.encode()).hexdigest()\n",
        "    random.seed(hash_value)\n",
        "    letters = ''.join(random.choices('ABCDEFGHIJKLMNOPQRSTUVWXYZ', k=6))\n",
        "    return letters\n",
        "\n",
        "# Example:\n",
        "print(\"Today's Challenge Letters:\", generate_daily_letters())\n"
      ]
    }
  ]
}